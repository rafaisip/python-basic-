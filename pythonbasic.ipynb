{
  "metadata": {
    "language_info": {
      "codemirror_mode": {
        "name": "python",
        "version": 3
      },
      "file_extension": ".py",
      "mimetype": "text/x-python",
      "name": "python",
      "nbconvert_exporter": "python",
      "pygments_lexer": "ipython3",
      "version": "3.8"
    },
    "kernelspec": {
      "name": "python",
      "display_name": "Python (Pyodide)",
      "language": "python"
    }
  },
  "nbformat_minor": 4,
  "nbformat": 4,
  "cells": [
    {
      "cell_type": "code",
      "source": "'''Module 2: Individual Programming Assignment 1\n\nUseful Business Calculations\n\nThis assignment covers your basic proficiency with Python.\n'''\n\ndef savings(gross_pay, tax_rate, expenses):\n    '''Savings.\n    2 points.\n\n    This function calculates the money remaining\n        for an employee after taxes and expenses.\n    \n    To get the take-home pay of an employee, we will\n        follow the following process:\n        1. Apply the tax rate to the gross pay of the employee; round down\n        2. Subtract the expenses from the after-tax pay of the employee\n\n    Parameters\n    ----------\n    gross_pay: int\n        the gross pay of an employee for a certain time period, expressed in centavos\n    tax_rate: float\n        the tax rate for a certain time period, expressed as a number between 0 and 1 (e.g., 0.12)\n    expenses: int\n        the expenses of an employee for a certain time period, expressed in centavos\n\n    Returns\n    -------\n    int\n        the number of centavos remaining from an employee's pay after taxes and expenses\n    '''\n    # Replace `pass` with your code. \n    # Stay within the function. Only use the parameters as input. The function should return your answer.\n    \ngross_pay = 75000 \ntax_rate = 0.15 \nexpenses = 2500 \nreturn(gross_pay - (gross_pay*tax_rate), \"centavos\")\n\n\ndef material_waste(total_material, material_units, num_jobs, job_consumption):\n    '''Material Waste.\n    2 points.\n\n    This function calculates how much material input will be wasted\n        after running a certain number of jobs that consume\n        a set amount of material.\n\n    To get the waste of a set of jobs:\n        1. Multiply the number of jobs by the material consumption per job.\n        2. Subtract the total material consumed from the total material available.\n\n    The users of this function also want you to format the output as a string, annotated with the\n        units in which the material is expressed. Do not add a space between the number and the unit.\n\n    Parameters\n    ----------\n    total_material: int\n        the total material available\n    material_units: str\n        the units used to express a quantity of the material (e.g., \"kg\", \"L\", etc.)\n    num_jobs: int\n        the number of jobs to run\n    job_consumption: int\n        the amount of material consumed per job\n\n    Returns\n    -------\n    str\n        the amount of remaining material expressed with its unit (e.g., \"10kg\").\n    '''\n    # Replace `pass` with your code. \n    # Stay within the function. Only use the parameters as input. The function should return your answer.\n    \ntotal_material = 1500\nmaterial_units = \"kg\"\nnum_jobs = 5\njob_consumption = 60\nreturn(total_material-(num_jobs*job_consumption), material_units)\n\n\ndef interest(principal, rate, periods):\n    '''Interest.\n    3 points.\n\n    This function calculates the final value of an investment after\n        gaining simple interest over a number of periods.\n\n    To calculate simple interest, simply multiply the principal to the quantity (rate * time). \n        Add this amount to the principal to get the final value.\n\n    Round down the final amount.\n\n    Parameters\n    ----------\n    principal: int\n        the principal (i.e., starting) amount invested, expressed in centavos\n    rate: float\n        the interest rate per period, expressed as a decimal representation of a percentage (e.g., 3% is 0.03)\n    periods: int\n        the number of periods invested\n\n    Returns\n    -------\n    int\n        the final value of the investment\n    '''\n    # Replace `pass` with your code. \n    # Stay within the function. Only use the parameters as input. The function should return your answer.\n    \nprincipal = 50000\nrate = 0.4\nperiod = 10\nreturn(\"The value of your investment is \",principal*(rate*period),\"centavos\")\n\ndef body_mass_index(weight, height):\n    '''Body Mass Index.\n    3 points.\n\n    This function calculates the body mass index (BMI) of a person\n        given their weight and height.\n\n    The formula for BMI is: kg / (m ^ 2)\n        (i.e., kilograms over meters squared)\n\n    Unfortunately, the users of this function use the imperial system.\n        You will need to first convert their arguments to the metric system.\n    \n    Parameters\n    ----------\n    weight: float\n        the weight of the person, in pounds\n    height: list\n        the height of the person, expressed as a list of two integers.\n        the first integer is the foot component of their height.\n        the second integer is the inches component of their height.\n        for example, 5'10\" would be passed as [5, 10].\n\n    Returns\n    -------\n    float\n        the BMI of the person.\n    '''\n    # Replace `pass` with your code. \n    # Stay within the function. Only use the parameters as input. The function should return your answer.\n    \nweight = 142.5\nheight = [5,8]\nheight = (height[0] * 0.3048) + (height[1] * 0.0254)\n\nreturn((weight/2.2)/height**2)\n",
      "metadata": {},
      "execution_count": null,
      "outputs": []
    },
    {
      "cell_type": "code",
      "source": "",
      "metadata": {
        "jupyter": {
          "outputs_hidden": true
        },
        "tags": [],
        "collapsed": true,
        "trusted": true
      },
      "execution_count": 3,
      "outputs": [
        {
          "execution_count": 3,
          "output_type": "execute_result",
          "data": {
            "text/plain": "int"
          },
          "metadata": {}
        }
      ]
    },
    {
      "cell_type": "code",
      "source": "",
      "metadata": {},
      "execution_count": null,
      "outputs": []
    }
  ]
}